{
  "nbformat": 4,
  "nbformat_minor": 0,
  "metadata": {
    "colab": {
      "name": "Operations and Expression.ipynb",
      "provenance": []
    },
    "kernelspec": {
      "name": "python3",
      "display_name": "Python 3"
    },
    "language_info": {
      "name": "python"
    }
  },
  "cells": [
    {
      "cell_type": "markdown",
      "source": [
        "# Boolean operators"
      ],
      "metadata": {
        "id": "a8SvB7fxud_p"
      }
    },
    {
      "cell_type": "code",
      "execution_count": 1,
      "metadata": {
        "colab": {
          "base_uri": "https://localhost:8080/"
        },
        "id": "2pbAkr5kKRRq",
        "outputId": "3749d530-03ce-4632-b7ae-58df503467a0"
      },
      "outputs": [
        {
          "output_type": "stream",
          "name": "stdout",
          "text": [
            "True\n",
            "False\n",
            "False\n"
          ]
        }
      ],
      "source": [
        "print(50>19)\n",
        "print(50<19)\n",
        "print(50==19)"
      ]
    },
    {
      "cell_type": "code",
      "source": [
        "a=10\n",
        "b=20\n",
        "\n",
        "print(a==b)\n",
        "print(a!=a)\n",
        "print(a<b)"
      ],
      "metadata": {
        "colab": {
          "base_uri": "https://localhost:8080/"
        },
        "id": "CPycRVs_My7J",
        "outputId": "e1fca0e0-e15a-425a-9ec7-9042b83cd913"
      },
      "execution_count": 2,
      "outputs": [
        {
          "output_type": "stream",
          "name": "stdout",
          "text": [
            "False\n",
            "False\n",
            "True\n"
          ]
        }
      ]
    },
    {
      "cell_type": "markdown",
      "source": [
        "# Bool Function"
      ],
      "metadata": {
        "id": "5C7iCFTEuylf"
      }
    },
    {
      "cell_type": "code",
      "source": [
        "print(bool(1))\n",
        "print(bool(0))\n",
        "print(bool(\"Ben\"))\n",
        "print(bool(None))\n",
        "print(bool([]))"
      ],
      "metadata": {
        "colab": {
          "base_uri": "https://localhost:8080/"
        },
        "id": "MI_WOqFsvBav",
        "outputId": "93aaac47-c894-415f-e1ab-fdab9ea0c581"
      },
      "execution_count": 3,
      "outputs": [
        {
          "output_type": "stream",
          "name": "stdout",
          "text": [
            "True\n",
            "False\n",
            "True\n",
            "False\n",
            "False\n"
          ]
        }
      ]
    },
    {
      "cell_type": "markdown",
      "source": [
        "# Functions Return a Boolean"
      ],
      "metadata": {
        "id": "EHuc7b-kvEuW"
      }
    },
    {
      "cell_type": "code",
      "source": [
        "def my_Function():\n",
        "  return False\n",
        "\n",
        "print(my_Function())\n",
        "\n",
        "if my_Function():\n",
        "  print(\"Yes!\")\n",
        "else:\n",
        "  print(\"No!\")"
      ],
      "metadata": {
        "colab": {
          "base_uri": "https://localhost:8080/"
        },
        "id": "-BByHW9ZvJJO",
        "outputId": "e3a6898d-6c23-454b-9163-c02b8dfab46d"
      },
      "execution_count": null,
      "outputs": [
        {
          "output_type": "stream",
          "name": "stdout",
          "text": [
            "False\n",
            "No!\n"
          ]
        }
      ]
    },
    {
      "cell_type": "markdown",
      "source": [
        "# Python Operations"
      ],
      "metadata": {
        "id": "21_lRmB_OZ8z"
      }
    },
    {
      "cell_type": "code",
      "source": [
        "print(15+18)\n",
        "print(102-92)\n",
        "print(19*19)\n",
        "print(100/9)\n",
        "print(70//9)\n",
        "print(40**9)"
      ],
      "metadata": {
        "colab": {
          "base_uri": "https://localhost:8080/"
        },
        "id": "uQMojHwwORvQ",
        "outputId": "4d91332f-f111-45d6-d8c7-37e3a255d36d"
      },
      "execution_count": 4,
      "outputs": [
        {
          "output_type": "stream",
          "name": "stdout",
          "text": [
            "33\n",
            "10\n",
            "361\n",
            "11.11111111111111\n",
            "7\n",
            "262144000000000\n"
          ]
        }
      ]
    },
    {
      "cell_type": "markdown",
      "source": [
        "# Python Bitwise Operators"
      ],
      "metadata": {
        "id": "8_kUrB8KOSbh"
      }
    },
    {
      "cell_type": "code",
      "source": [
        "a=90\n",
        "b=53\n",
        "\n",
        "print(a&b)\n",
        "print(a|b)\n",
        "print(a^b)"
      ],
      "metadata": {
        "colab": {
          "base_uri": "https://localhost:8080/"
        },
        "id": "MLZFHNgfPmdU",
        "outputId": "dec4a16c-2ebc-497f-833d-93ac3536b361"
      },
      "execution_count": 5,
      "outputs": [
        {
          "output_type": "stream",
          "name": "stdout",
          "text": [
            "16\n",
            "127\n",
            "111\n"
          ]
        }
      ]
    },
    {
      "cell_type": "markdown",
      "source": [
        "# Python assignment sectors"
      ],
      "metadata": {
        "id": "_-cnmDGzQR0V"
      }
    },
    {
      "cell_type": "code",
      "source": [
        "a+=8 \n",
        "\n",
        "print(a)"
      ],
      "metadata": {
        "colab": {
          "base_uri": "https://localhost:8080/"
        },
        "id": "VOyySHjXQXuX",
        "outputId": "2225fe79-217c-458a-faa4-a1a595fd0879"
      },
      "execution_count": 6,
      "outputs": [
        {
          "output_type": "stream",
          "name": "stdout",
          "text": [
            "98\n"
          ]
        }
      ]
    },
    {
      "cell_type": "markdown",
      "source": [
        "# Logical Operators"
      ],
      "metadata": {
        "id": "9L540KdcRBpz"
      }
    },
    {
      "cell_type": "code",
      "source": [
        "a = True\n",
        "b = False\n",
        "\n",
        "print(a and b)\n",
        "print(a or b)\n",
        "print(not(a or b))"
      ],
      "metadata": {
        "colab": {
          "base_uri": "https://localhost:8080/"
        },
        "id": "S7bRLX19RFBQ",
        "outputId": "ea36a5c4-fb84-4de6-d900-4d23063418be"
      },
      "execution_count": null,
      "outputs": [
        {
          "output_type": "stream",
          "name": "stdout",
          "text": [
            "False\n",
            "True\n",
            "False\n"
          ]
        }
      ]
    },
    {
      "cell_type": "markdown",
      "source": [
        "# Identity Operators"
      ],
      "metadata": {
        "id": "qTMcMakFRkXT"
      }
    },
    {
      "cell_type": "code",
      "source": [
        "print(a is b)\n",
        "print(a is a)\n",
        "print(a is not b)"
      ],
      "metadata": {
        "id": "GDtyN3GlRpAS",
        "colab": {
          "base_uri": "https://localhost:8080/"
        },
        "outputId": "1ef35ad5-89bd-4b0b-fdf8-89c55eaec0ff"
      },
      "execution_count": null,
      "outputs": [
        {
          "output_type": "stream",
          "name": "stdout",
          "text": [
            "False\n",
            "True\n",
            "True\n"
          ]
        }
      ]
    }
  ]
}