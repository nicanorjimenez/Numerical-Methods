{
  "nbformat": 4,
  "nbformat_minor": 0,
  "metadata": {
    "colab": {
      "name": "Problem 3 Finals Exam.ipynb",
      "provenance": [],
      "authorship_tag": "ABX9TyMT7BKvrjsJ+CN7t2mZAMoS",
      "include_colab_link": true
    },
    "kernelspec": {
      "name": "python3",
      "display_name": "Python 3"
    },
    "language_info": {
      "name": "python"
    }
  },
  "cells": [
    {
      "cell_type": "markdown",
      "metadata": {
        "id": "view-in-github",
        "colab_type": "text"
      },
      "source": [
        "<a href=\"https://colab.research.google.com/github/nicanorjimenez/Numerical-Methods-58012/blob/main/Problem_3_Finals_Exam.ipynb\" target=\"_parent\"><img src=\"https://colab.research.google.com/assets/colab-badge.svg\" alt=\"Open In Colab\"/></a>"
      ]
    },
    {
      "cell_type": "code",
      "execution_count": 1,
      "metadata": {
        "id": "8HRvdaZH2hmm"
      },
      "outputs": [],
      "source": [
        "import math\n"
      ]
    },
    {
      "cell_type": "code",
      "source": [
        "def f(x):\n",
        "  return(math.exp(x)) # define the function"
      ],
      "metadata": {
        "id": "FodsTJOm2sXZ"
      },
      "execution_count": 2,
      "outputs": []
    },
    {
      "cell_type": "code",
      "source": [
        "a = -1\n",
        "b = 1\n",
        "n = 20\n",
        "h = (b-a)/n   # this is for the width \n",
        "S = h * (f(a)+f(b))    # Begins the value for the summation"
      ],
      "metadata": {
        "id": "5hp7Zhs32snf"
      },
      "execution_count": 7,
      "outputs": []
    },
    {
      "cell_type": "code",
      "source": [
        "for i in range(1,n):\n",
        "    S += f(a+i*h)\n",
        "Integral = S*h #returns value"
      ],
      "metadata": {
        "id": "lWM3zsCH2_Rp"
      },
      "execution_count": 5,
      "outputs": []
    },
    {
      "cell_type": "code",
      "source": [
        "print('Integral = %0.4f' %Integral)\n"
      ],
      "metadata": {
        "colab": {
          "base_uri": "https://localhost:8080/"
        },
        "id": "BWLCwXL23EiA",
        "outputId": "bbd34d28-130e-453b-ca31-9de807a63387"
      },
      "execution_count": 8,
      "outputs": [
        {
          "output_type": "stream",
          "name": "stdout",
          "text": [
            "Integral = 4.2227\n"
          ]
        }
      ]
    }
  ]
}